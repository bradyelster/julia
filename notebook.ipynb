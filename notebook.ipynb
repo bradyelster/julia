{
 "cells": [
  {
   "cell_type": "markdown",
   "metadata": {},
   "source": [
    "### Getting Started\n",
    "\n",
    "Topics:\n",
    "1. How to print\n",
    "2. How to assign variables\n",
    "3. How to comment\n",
    "4. Syntax for basic math.. yippie!"
   ]
  },
  {
   "cell_type": "markdown",
   "metadata": {},
   "source": [
    "## How to print\n",
    "In Julia, you usually use `println()` to print "
   ]
  },
  {
   "cell_type": "code",
   "execution_count": 4,
   "metadata": {},
   "outputs": [
    {
     "name": "stdout",
     "output_type": "stream",
     "text": [
      "Hey Dad!\n"
     ]
    }
   ],
   "source": [
    "println(\"Hey Dad!\")"
   ]
  },
  {
   "cell_type": "markdown",
   "metadata": {},
   "source": [
    "### Assign Variables"
   ]
  },
  {
   "cell_type": "code",
   "execution_count": 6,
   "metadata": {},
   "outputs": [
    {
     "data": {
      "text/plain": [
       "Int64"
      ]
     },
     "metadata": {},
     "output_type": "display_data"
    }
   ],
   "source": [
    "my_answer = 42\n",
    "typeof(my_answer)"
   ]
  },
  {
   "cell_type": "code",
   "execution_count": 2,
   "metadata": {},
   "outputs": [
    {
     "data": {
      "text/plain": [
       "Float64"
      ]
     },
     "execution_count": 2,
     "metadata": {},
     "output_type": "execute_result"
    },
    {
     "ename": "BoundsError",
     "evalue": "BoundsError: attempt to access 4-codeunit String at index [1:5]",
     "output_type": "error",
     "traceback": [
      "KERNEL EXCEPTION",
      "BoundsError: attempt to access 4-codeunit String at index [1:5]",
      "",
      "Stacktrace:",
      " [1] checkbounds",
      "   @ Base ./strings/basic.jl:216 [inlined]",
      " [2] getindex(s::String, r::UnitRange{Int64})",
      "   @ Base ./strings/string.jl:468",
      " [3] complete_request(socket::ZMQ.Socket, msg::IJulia.Msg)",
      "   @ IJulia ~/.julia/packages/IJulia/Vo51o/src/handlers.jl:115",
      " [4] #invokelatest#2",
      "   @ ./essentials.jl:887 [inlined]",
      " [5] invokelatest",
      "   @ ./essentials.jl:884 [inlined]",
      " [6] eventloop(socket::ZMQ.Socket)",
      "   @ IJulia ~/.julia/packages/IJulia/Vo51o/src/eventloop.jl:8",
      " [7] (::IJulia.var\"#15#18\")()",
      "   @ IJulia ~/.julia/packages/IJulia/Vo51o/src/eventloop.jl:38"
     ]
    },
    {
     "ename": "BoundsError",
     "evalue": "BoundsError: attempt to access 15-codeunit String at index [1:16]",
     "output_type": "error",
     "traceback": [
      "KERNEL EXCEPTION",
      "BoundsError: attempt to access 15-codeunit String at index [1:16]",
      "",
      "Stacktrace:",
      " [1] checkbounds",
      "   @ Base ./strings/basic.jl:216 [inlined]",
      " [2] getindex(s::String, r::UnitRange{Int64})",
      "   @ Base ./strings/string.jl:468",
      " [3] complete_request(socket::ZMQ.Socket, msg::IJulia.Msg)",
      "   @ IJulia ~/.julia/packages/IJulia/Vo51o/src/handlers.jl:115",
      " [4] #invokelatest#2",
      "   @ ./essentials.jl:887 [inlined]",
      " [5] invokelatest",
      "   @ ./essentials.jl:884 [inlined]",
      " [6] eventloop(socket::ZMQ.Socket)",
      "   @ IJulia ~/.julia/packages/IJulia/Vo51o/src/eventloop.jl:8",
      " [7] (::IJulia.var\"#15#18\")()",
      "   @ IJulia ~/.julia/packages/IJulia/Vo51o/src/eventloop.jl:38"
     ]
    },
    {
     "ename": "BoundsError",
     "evalue": "BoundsError: attempt to access 17-codeunit String at index [1:18]",
     "output_type": "error",
     "traceback": [
      "KERNEL EXCEPTION",
      "BoundsError: attempt to access 17-codeunit String at index [1:18]",
      "",
      "Stacktrace:",
      " [1] checkbounds",
      "   @ Base ./strings/basic.jl:216 [inlined]",
      " [2] getindex(s::String, r::UnitRange{Int64})",
      "   @ Base ./strings/string.jl:468",
      " [3] complete_request(socket::ZMQ.Socket, msg::IJulia.Msg)",
      "   @ IJulia ~/.julia/packages/IJulia/Vo51o/src/handlers.jl:115",
      " [4] #invokelatest#2",
      "   @ ./essentials.jl:887 [inlined]",
      " [5] invokelatest",
      "   @ ./essentials.jl:884 [inlined]",
      " [6] eventloop(socket::ZMQ.Socket)",
      "   @ IJulia ~/.julia/packages/IJulia/Vo51o/src/eventloop.jl:8",
      " [7] (::IJulia.var\"#15#18\")()",
      "   @ IJulia ~/.julia/packages/IJulia/Vo51o/src/eventloop.jl:38"
     ]
    },
    {
     "ename": "BoundsError",
     "evalue": "BoundsError: attempt to access 26-codeunit String at index [1:27]",
     "output_type": "error",
     "traceback": [
      "KERNEL EXCEPTION",
      "BoundsError: attempt to access 26-codeunit String at index [1:27]",
      "",
      "Stacktrace:",
      " [1] checkbounds",
      "   @ Base ./strings/basic.jl:216 [inlined]",
      " [2] getindex(s::String, r::UnitRange{Int64})",
      "   @ Base ./strings/string.jl:468",
      " [3] complete_request(socket::ZMQ.Socket, msg::IJulia.Msg)",
      "   @ IJulia ~/.julia/packages/IJulia/Vo51o/src/handlers.jl:115",
      " [4] #invokelatest#2",
      "   @ ./essentials.jl:887 [inlined]",
      " [5] invokelatest",
      "   @ ./essentials.jl:884 [inlined]",
      " [6] eventloop(socket::ZMQ.Socket)",
      "   @ IJulia ~/.julia/packages/IJulia/Vo51o/src/eventloop.jl:8",
      " [7] (::IJulia.var\"#15#18\")()",
      "   @ IJulia ~/.julia/packages/IJulia/Vo51o/src/eventloop.jl:38"
     ]
    }
   ],
   "source": [
    "my_pi = 3.14159\n",
    "typeof(my_pi)"
   ]
  },
  {
   "cell_type": "code",
   "execution_count": 3,
   "metadata": {},
   "outputs": [
    {
     "data": {
      "text/plain": [
       "String"
      ]
     },
     "execution_count": 3,
     "metadata": {},
     "output_type": "execute_result"
    }
   ],
   "source": [
    "🔥 = \"fire\"\n",
    "typeof(🔥)"
   ]
  },
  {
   "cell_type": "markdown",
   "metadata": {},
   "source": [
    "Not sure why I'm getting a BOUNDS ERROR message when the code line works?"
   ]
  },
  {
   "cell_type": "markdown",
   "metadata": {},
   "source": [
    "### Basic Math"
   ]
  },
  {
   "cell_type": "code",
   "execution_count": 6,
   "metadata": {},
   "outputs": [
    {
     "data": {
      "text/plain": [
       "10"
      ]
     },
     "execution_count": 6,
     "metadata": {},
     "output_type": "execute_result"
    }
   ],
   "source": [
    "3 + 7"
   ]
  },
  {
   "cell_type": "code",
   "execution_count": 7,
   "metadata": {},
   "outputs": [
    {
     "data": {
      "text/plain": [
       "100"
      ]
     },
     "execution_count": 7,
     "metadata": {},
     "output_type": "execute_result"
    }
   ],
   "source": [
    "10^2"
   ]
  },
  {
   "cell_type": "code",
   "execution_count": 8,
   "metadata": {},
   "outputs": [
    {
     "data": {
      "text/plain": [
       "1"
      ]
     },
     "execution_count": 8,
     "metadata": {},
     "output_type": "execute_result"
    }
   ],
   "source": [
    "# this is the modulus operator which gives us the remainder of a division. So 101 / 2 = 50.5, so remainder = 1/2, so we get 1.\n",
    "101 % 2"
   ]
  },
  {
   "cell_type": "code",
   "execution_count": null,
   "metadata": {},
   "outputs": [],
   "source": []
  }
 ],
 "metadata": {
  "kernelspec": {
   "display_name": "Julia 1.10.0",
   "language": "julia",
   "name": "julia-1.10"
  },
  "language_info": {
   "file_extension": ".jl",
   "mimetype": "application/julia",
   "name": "julia",
   "version": "1.10.0"
  }
 },
 "nbformat": 4,
 "nbformat_minor": 2
}
